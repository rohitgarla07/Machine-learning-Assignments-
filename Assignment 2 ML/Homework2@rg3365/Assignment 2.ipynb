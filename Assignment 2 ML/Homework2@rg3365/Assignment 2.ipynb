{
 "cells": [
  {
   "cell_type": "markdown",
   "metadata": {},
   "source": [
    "# Machine Learning\n",
    "## Assignment - 2"
   ]
  },
  {
   "cell_type": "markdown",
   "metadata": {},
   "source": [
    "Student Name: Rohit Garla\n",
    "\n",
    "Email ID: rg3365@nyu.edu"
   ]
  },
  {
   "cell_type": "code",
   "execution_count": 205,
   "metadata": {},
   "outputs": [],
   "source": [
    "import numpy as np\n",
    "from nltk.corpus import stopwords\n",
    "from nltk.stem.porter import *\n",
    "import operator\n",
    "from collections import OrderedDict\n",
    "import pandas as pd\n",
    "import matplotlib.pyplot as plt\n",
    "from itertools import islice\n",
    "%matplotlib inline"
   ]
  },
  {
   "cell_type": "code",
   "execution_count": 227,
   "metadata": {},
   "outputs": [
    {
     "name": "stderr",
     "output_type": "stream",
     "text": [
      "/anaconda3/lib/python3.6/site-packages/ipykernel_launcher.py:13: SettingWithCopyWarning: \n",
      "A value is trying to be set on a copy of a slice from a DataFrame\n",
      "\n",
      "See the caveats in the documentation: http://pandas.pydata.org/pandas-docs/stable/indexing.html#indexing-view-versus-copy\n",
      "  del sys.path[0]\n",
      "/anaconda3/lib/python3.6/site-packages/ipykernel_launcher.py:15: SettingWithCopyWarning: \n",
      "A value is trying to be set on a copy of a slice from a DataFrame\n",
      "\n",
      "See the caveats in the documentation: http://pandas.pydata.org/pandas-docs/stable/indexing.html#indexing-view-versus-copy\n",
      "  from ipykernel import kernelapp as app\n"
     ]
    }
   ],
   "source": [
    "train = pd.read_csv(\"reviewstrain.txt\", delimiter=\"\\t\", header=None)\n",
    "train = pd.DataFrame(train)\n",
    "train = pd.DataFrame(train[0].astype(str).str.split(' ',1).tolist(), columns = ['label','reviews'])\n",
    "train[\"label\"] = train['label'].astype(int)\n",
    "test = pd.read_csv(\"reviewstest.txt\", delimiter=\"\\t\", header=None)\n",
    "test = pd.DataFrame(test)\n",
    "test = pd.DataFrame(test[0].astype(str).str.split(' ',1).tolist(), columns = ['label','reviews'])\n",
    "test[\"label\"] = test['label'].astype(int)\n",
    "train.head()\n",
    "\n",
    "\n",
    "for i in range(len(train)):\n",
    "    train['reviews'][i]=train['reviews'][i].split(' ')\n",
    "for i in range(len(test)):\n",
    "    test['reviews'][i]=test['reviews'][i].split(' ')\n",
    "#test.head()"
   ]
  },
  {
   "cell_type": "code",
   "execution_count": 207,
   "metadata": {},
   "outputs": [
    {
     "data": {
      "text/html": [
       "<div>\n",
       "<style>\n",
       "    .dataframe thead tr:only-child th {\n",
       "        text-align: right;\n",
       "    }\n",
       "\n",
       "    .dataframe thead th {\n",
       "        text-align: left;\n",
       "    }\n",
       "\n",
       "    .dataframe tbody tr th {\n",
       "        vertical-align: top;\n",
       "    }\n",
       "</style>\n",
       "<table border=\"1\" class=\"dataframe\">\n",
       "  <thead>\n",
       "    <tr style=\"text-align: right;\">\n",
       "      <th></th>\n",
       "      <th>label</th>\n",
       "      <th>reviews</th>\n",
       "    </tr>\n",
       "  </thead>\n",
       "  <tbody>\n",
       "    <tr>\n",
       "      <th>0</th>\n",
       "      <td>1</td>\n",
       "      <td>funny , sexy , devastating and incurably roman...</td>\n",
       "    </tr>\n",
       "    <tr>\n",
       "      <th>1</th>\n",
       "      <td>1</td>\n",
       "      <td>cool gadgets and creatures keep this fresh .</td>\n",
       "    </tr>\n",
       "    <tr>\n",
       "      <th>2</th>\n",
       "      <td>1</td>\n",
       "      <td>fathers and sons , and the uneasy bonds betwee...</td>\n",
       "    </tr>\n",
       "    <tr>\n",
       "      <th>3</th>\n",
       "      <td>0</td>\n",
       "      <td>after that it becomes long and tedious like a ...</td>\n",
       "    </tr>\n",
       "    <tr>\n",
       "      <th>4</th>\n",
       "      <td>0</td>\n",
       "      <td>what should have been a cutting hollywood sati...</td>\n",
       "    </tr>\n",
       "  </tbody>\n",
       "</table>\n",
       "</div>"
      ],
      "text/plain": [
       "   label                                            reviews\n",
       "0      1  funny , sexy , devastating and incurably roman...\n",
       "1      1       cool gadgets and creatures keep this fresh .\n",
       "2      1  fathers and sons , and the uneasy bonds betwee...\n",
       "3      0  after that it becomes long and tedious like a ...\n",
       "4      0  what should have been a cutting hollywood sati..."
      ]
     },
     "execution_count": 207,
     "metadata": {},
     "output_type": "execute_result"
    }
   ],
   "source": [
    "test.head()"
   ]
  },
  {
   "cell_type": "code",
   "execution_count": 214,
   "metadata": {},
   "outputs": [
    {
     "name": "stdout",
     "output_type": "stream",
     "text": [
      "a\n",
      "real\n",
      "winner\n",
      "--\n",
      "smart\n",
      ",\n",
      "funny\n",
      ",\n",
      "subtle\n",
      ",\n",
      "and\n",
      "resonant\n",
      ".\n"
     ]
    }
   ],
   "source": [
    "for x in train['reviews'][1]:\n",
    "    print (x)"
   ]
  },
  {
   "cell_type": "code",
   "execution_count": 213,
   "metadata": {},
   "outputs": [
    {
     "data": {
      "text/plain": [
       "['a',\n",
       " 'real',\n",
       " 'winner',\n",
       " '--',\n",
       " 'smart',\n",
       " ',',\n",
       " 'funny',\n",
       " ',',\n",
       " 'subtle',\n",
       " ',',\n",
       " 'and',\n",
       " 'resonant',\n",
       " '.']"
      ]
     },
     "execution_count": 213,
     "metadata": {},
     "output_type": "execute_result"
    }
   ],
   "source": [
    "train['reviews'][1]"
   ]
  },
  {
   "cell_type": "code",
   "execution_count": 180,
   "metadata": {
    "collapsed": true
   },
   "outputs": [],
   "source": [
    "def inter(c1,c2):\n",
    "    unique=set(c2).intersection(c1)\n",
    "    if len(unique)==0:\n",
    "        return np.nan\n",
    "    else:\n",
    "        return (1/len(unique))      "
   ]
  },
  {
   "cell_type": "code",
   "execution_count": 181,
   "metadata": {
    "collapsed": true
   },
   "outputs": [],
   "source": [
    "def neighbours(k,testSample):\n",
    "    sorted_distances_dataframe = testSample.sort_values('Distance')\n",
    "    neighbour = sorted_distances_dataframe.head(k)\n",
    "    last_distance = sorted_distances_dataframe[(k-1):].Distance.values[0]\n",
    "    sorted_distances_dataframe = sorted_distances_dataframe.drop(sorted_distances_dataframe.index[0:k])\n",
    "    sorted_distances_dataframe = sorted_distances_dataframe[sorted_distances_dataframe['Distance']==last_distance]\n",
    "    \n",
    "    neighbour=neighbour.append(sorted_distances_dataframe)\n",
    "    \n",
    "    return neighbour\n",
    "    "
   ]
  },
  {
   "cell_type": "code",
   "execution_count": 199,
   "metadata": {},
   "outputs": [],
   "source": [
    "def predictionKnn(k,test,train):\n",
    "    train_instance_Dataframe=train\n",
    "    train_instance_Dataframe[\"Distance\"]=0\n",
    "    final_test=test\n",
    "    final_test[\"Prediction\"]=1\n",
    "    distance=[]\n",
    "    c0=0\n",
    "    c1=0\n",
    "    for x in test.index.values:\n",
    "        for y in train.index.values:\n",
    "            distance.append(inter(test['reviews'][x],train['reviews'][y]))\n",
    "        #print(len(distance))\n",
    "        train_instance_Dataframe[\"Distance\"]=distance\n",
    "        neighbour = neighbours(k,train_instance_Dataframe).reset_index()\n",
    "        #return neighbour\n",
    "        for i in range(len(neighbour)):\n",
    "            if neighbour['label'][i]==0 or neighbour['label'][i]=='0':\n",
    "                c0=c0+1\n",
    "            else:\n",
    "                c1=c1+1\n",
    "        if(c0>c1):\n",
    "            final_test['Prediction'][x]=0\n",
    "        c0=0\n",
    "        c1=0\n",
    "        distance=[]\n",
    "    return final_test"
   ]
  },
  {
   "cell_type": "code",
   "execution_count": 183,
   "metadata": {},
   "outputs": [],
   "source": [
    "def metric_variables(k,test,train):\n",
    "    true_positive=0\n",
    "    true_negative=0\n",
    "    false_positive=0\n",
    "    false_negative=0\n",
    "    final_test=predictionKnn(k,test,train)\n",
    "    for i in range(len(final_test)):\n",
    "        if final_test['label'][i]==1:\n",
    "            if final_test['Prediction'][i]==1:\n",
    "                true_positive=true_positive+1\n",
    "            else:\n",
    "                false_negative=false_negative+1\n",
    "        else:\n",
    "            if final_test['Prediction'][i]==0:\n",
    "                true_negative=true_negative+1\n",
    "            else:\n",
    "                false_positive=false_positive+1\n",
    "    print(\"CONFUSION MATRIX\")\n",
    "    print(\"True Positive = \"+str(true_positive))\n",
    "    print(\"True Negative = \"+str(true_negative))\n",
    "    print(\"False Negative = \"+str(false_negative))\n",
    "    print(\"False Positive = \"+str(false_positive))\n",
    "    print('Accuracy = '+str((true_positive+true_negative)/(true_positive+true_negative+false_positive+false_negative)))\n",
    "    print('True Positive Rate = '+ str(true_positive/(true_positive+false_negative)))\n",
    "    print('False Positive Rate = '+str(false_positive/(false_positive+true_negative)))"
   ]
  },
  {
   "cell_type": "code",
   "execution_count": 184,
   "metadata": {},
   "outputs": [
    {
     "name": "stderr",
     "output_type": "stream",
     "text": [
      "/anaconda3/lib/python3.6/site-packages/ipykernel_launcher.py:22: SettingWithCopyWarning: \n",
      "A value is trying to be set on a copy of a slice from a DataFrame\n",
      "\n",
      "See the caveats in the documentation: http://pandas.pydata.org/pandas-docs/stable/indexing.html#indexing-view-versus-copy\n"
     ]
    },
    {
     "name": "stdout",
     "output_type": "stream",
     "text": [
      "CONFUSION MATRIX\n",
      "True Positive = 209\n",
      "True Negative = 93\n",
      "False Negative = 64\n",
      "False Positive = 134\n",
      "Accuracy = 0.604\n",
      "True Positive Rate = 0.7655677655677655\n",
      "False Positive Rate = 0.5903083700440529\n"
     ]
    }
   ],
   "source": [
    "metric_variables(1,test,train)"
   ]
  },
  {
   "cell_type": "code",
   "execution_count": 185,
   "metadata": {},
   "outputs": [
    {
     "name": "stderr",
     "output_type": "stream",
     "text": [
      "/anaconda3/lib/python3.6/site-packages/ipykernel_launcher.py:22: SettingWithCopyWarning: \n",
      "A value is trying to be set on a copy of a slice from a DataFrame\n",
      "\n",
      "See the caveats in the documentation: http://pandas.pydata.org/pandas-docs/stable/indexing.html#indexing-view-versus-copy\n"
     ]
    },
    {
     "name": "stdout",
     "output_type": "stream",
     "text": [
      "CONFUSION MATRIX\n",
      "True Positive = 212\n",
      "True Negative = 91\n",
      "False Negative = 61\n",
      "False Positive = 136\n",
      "Accuracy = 0.606\n",
      "True Positive Rate = 0.7765567765567766\n",
      "False Positive Rate = 0.5991189427312775\n"
     ]
    }
   ],
   "source": [
    "metric_variables(5,test,train)"
   ]
  },
  {
   "cell_type": "code",
   "execution_count": 186,
   "metadata": {
    "collapsed": true
   },
   "outputs": [],
   "source": [
    "def zeroR():\n",
    "    true_positive=0\n",
    "    true_negative=0\n",
    "    false_positive=0\n",
    "    false_negative=0\n",
    "    c0=0\n",
    "    c1=0\n",
    "    c=0\n",
    "    for i in range(len(train)):\n",
    "        if train['label'][i]==0:\n",
    "            c0=c0+1\n",
    "        else:\n",
    "            c1=c1+1\n",
    "        if c1>c0:\n",
    "            c=c1\n",
    "        else:\n",
    "            c=c0\n",
    "    final_test=test\n",
    "    final_test['Prediction']=c\n",
    "    for i in range(len(final_test)):\n",
    "        if final_test['label'][i]==1:\n",
    "            if final_test['Prediction'][i]==1:\n",
    "                true_positive=true_positive+1\n",
    "            else:\n",
    "                false_negative=false_negative+1\n",
    "        else:\n",
    "            if final_test['Prediction'][i]==0:\n",
    "                true_negative=true_negative+1\n",
    "            else:\n",
    "                false_positive=false_positive+1\n",
    "    print(\"CONFUSION MATRIX\")\n",
    "    print(\"True Positive = \"+str(true_positive))\n",
    "    print(\"True Negative = \"+str(true_negative))\n",
    "    print(\"False Negative = \"+str(false_negative))\n",
    "    print(\"False Positive = \"+str(false_positive))"
   ]
  },
  {
   "cell_type": "code",
   "execution_count": 187,
   "metadata": {},
   "outputs": [
    {
     "name": "stdout",
     "output_type": "stream",
     "text": [
      "CONFUSION MATRIX\n",
      "True Positive = 0\n",
      "True Negative = 0\n",
      "False Negative = 273\n",
      "False Positive = 227\n"
     ]
    }
   ],
   "source": [
    "zeroR()"
   ]
  },
  {
   "cell_type": "code",
   "execution_count": 188,
   "metadata": {
    "collapsed": true
   },
   "outputs": [],
   "source": [
    "def crossValidation(klist,test,train):\n",
    "    df = pd.DataFrame(columns=['label','reviews','Prediction'])\n",
    "    kaccu={}\n",
    "    for k in klist:\n",
    "        for i in range(5):\n",
    "            #print(i)\n",
    "            test_data = train[(i*300):(i*300)+300]\n",
    "            train_data = train.drop(train.index[(i*300):(i*300)+300])\n",
    "            #train_data = train_data.reset_index(drop=True)\n",
    "            df1 = predictionKnn(k,test_data,train_data)\n",
    "            df=df.append(df1)\n",
    "        correct_pred =0\n",
    "        total_pred=0\n",
    "        for row in df.itertuples():\n",
    "            total_pred = total_pred + 1\n",
    "            if int(row.label) == int(row.Prediction):\n",
    "                correct_pred =correct_pred + 1\n",
    "        print(\"For K = \", k)\n",
    "    #print('Correction Predictions = ', correct_pred)\n",
    "    #print('Total Predictions = ', total_pred)\n",
    "        accuracy = (correct_pred/total_pred)*100\n",
    "        print('Accuracy = ', accuracy)\n",
    "        print(\"----------------------------------------------------------------------\")\n",
    "        kaccu.update({k : accuracy})"
   ]
  },
  {
   "cell_type": "code",
   "execution_count": 189,
   "metadata": {},
   "outputs": [
    {
     "name": "stderr",
     "output_type": "stream",
     "text": [
      "/anaconda3/lib/python3.6/site-packages/ipykernel_launcher.py:5: SettingWithCopyWarning: \n",
      "A value is trying to be set on a copy of a slice from a DataFrame.\n",
      "Try using .loc[row_indexer,col_indexer] = value instead\n",
      "\n",
      "See the caveats in the documentation: http://pandas.pydata.org/pandas-docs/stable/indexing.html#indexing-view-versus-copy\n",
      "  \"\"\"\n",
      "/anaconda3/lib/python3.6/site-packages/ipykernel_launcher.py:22: SettingWithCopyWarning: \n",
      "A value is trying to be set on a copy of a slice from a DataFrame\n",
      "\n",
      "See the caveats in the documentation: http://pandas.pydata.org/pandas-docs/stable/indexing.html#indexing-view-versus-copy\n",
      "/anaconda3/lib/python3.6/site-packages/ipykernel_launcher.py:10: SettingWithCopyWarning: \n",
      "A value is trying to be set on a copy of a slice from a DataFrame\n",
      "\n",
      "See the caveats in the documentation: http://pandas.pydata.org/pandas-docs/stable/indexing.html#indexing-view-versus-copy\n",
      "  # Remove the CWD from sys.path while we load stuff.\n"
     ]
    },
    {
     "name": "stdout",
     "output_type": "stream",
     "text": [
      "For K =  3\n",
      "Accuracy =  66.06666666666666\n",
      "----------------------------------------------------------------------\n",
      "For K =  7\n",
      "Accuracy =  65.96666666666667\n",
      "----------------------------------------------------------------------\n",
      "For K =  99\n",
      "Accuracy =  64.37777777777778\n",
      "----------------------------------------------------------------------\n"
     ]
    }
   ],
   "source": [
    "crossValidation([3,7,99],test,train)"
   ]
  },
  {
   "cell_type": "code",
   "execution_count": 190,
   "metadata": {},
   "outputs": [
    {
     "name": "stderr",
     "output_type": "stream",
     "text": [
      "/anaconda3/lib/python3.6/site-packages/ipykernel_launcher.py:22: SettingWithCopyWarning: \n",
      "A value is trying to be set on a copy of a slice from a DataFrame\n",
      "\n",
      "See the caveats in the documentation: http://pandas.pydata.org/pandas-docs/stable/indexing.html#indexing-view-versus-copy\n"
     ]
    },
    {
     "name": "stdout",
     "output_type": "stream",
     "text": [
      "CONFUSION MATRIX\n",
      "True Positive = 212\n",
      "True Negative = 83\n",
      "False Negative = 61\n",
      "False Positive = 144\n",
      "Accuracy = 0.59\n",
      "True Positive Rate = 0.7765567765567766\n",
      "False Positive Rate = 0.6343612334801763\n"
     ]
    }
   ],
   "source": [
    "metric_variables(3,test,train)"
   ]
  },
  {
   "cell_type": "code",
   "execution_count": 223,
   "metadata": {
    "collapsed": true
   },
   "outputs": [],
   "source": [
    "def stemming_elstopwords(dataframe):\n",
    "    # Remove special characters, numbers, punctuations\n",
    "    dataframe['reviews'] = dataframe['reviews'].str.replace(\"[^a-zA-Z#]\", \" \")\n",
    "    \n",
    "    # Removing Short Words\n",
    "    dataframe['reviews'] = dataframe['reviews'].apply(lambda x: ' '.join([w for w in x.split() if len(w)>3]))\n",
    "    \n",
    "    # Stemming\n",
    "    stemmer = PorterStemmer()\n",
    "    dataframe = dataframe.apply(lambda x: [stemmer.stem(i) for i in x]) \n",
    "    \n",
    "    # Removing of Stop Words\n",
    "    stop = stopwords.words('english')\n",
    "    dataframe['reviews'] = dataframe['reviews'].apply(lambda x: \" \".join(x for x in x.split() if x not in stop))\n",
    "    \n",
    "    return dataframe"
   ]
  },
  {
   "cell_type": "code",
   "execution_count": null,
   "metadata": {
    "collapsed": true
   },
   "outputs": [],
   "source": [
    "train1 = pd.read_csv(\"reviewstrain.txt\", delimiter=\"\\t\", header=None)\n",
    "train1 = pd.DataFrame(train1)\n",
    "train1 = pd.DataFrame(train1[0].astype(str).str.split(' ',1).tolist(), columns = ['label','reviews'])\n",
    "trains = stemming_elstopwords(train1)\n",
    "for i in range(len(train1)):\n",
    "    train1['reviews'][i]=train1['reviews'][i].split(' ')\n",
    "train1[\"label\"] = trains['label'].astype(int)\n",
    "test1 = pd.read_csv(\"reviewstest.txt\", delimiter=\"\\t\", header=None)\n",
    "test1 = pd.DataFrame(test1)\n",
    "test1 = pd.DataFrame(test1[0].astype(str).str.split(' ',1).tolist(), columns = ['label','reviews'])\n",
    "tests = stemming_elstopwords(test1)\n",
    "test1[\"label\"] = tests['label'].astype(int)\n",
    "train1.head()\n",
    "for i in range(len(test1)):\n",
    "    test1['reviews'][i]=test1['reviews'][i].split(' ')"
   ]
  },
  {
   "cell_type": "code",
   "execution_count": null,
   "metadata": {
    "collapsed": true
   },
   "outputs": [],
   "source": [
    "import sys\n",
    "if sys.version_info[0] >= 2:\n",
    "    raw_input = input\n",
    "user_input = raw_input(\"1: Default Distance\\n2: Refined Dataframe Distance\\n\")\n",
    "user_input"
   ]
  },
  {
   "cell_type": "code",
   "execution_count": 230,
   "metadata": {},
   "outputs": [
    {
     "name": "stderr",
     "output_type": "stream",
     "text": [
      "/anaconda3/lib/python3.6/site-packages/ipykernel_launcher.py:22: SettingWithCopyWarning: \n",
      "A value is trying to be set on a copy of a slice from a DataFrame\n",
      "\n",
      "See the caveats in the documentation: http://pandas.pydata.org/pandas-docs/stable/indexing.html#indexing-view-versus-copy\n"
     ]
    },
    {
     "name": "stdout",
     "output_type": "stream",
     "text": [
      "CONFUSION MATRIX\n",
      "True Positive = 211\n",
      "True Negative = 129\n",
      "False Negative = 62\n",
      "False Positive = 98\n",
      "Accuracy = 0.68\n",
      "True Positive Rate = 0.7728937728937729\n",
      "False Positive Rate = 0.43171806167400884\n"
     ]
    }
   ],
   "source": [
    "#for k=1\n",
    "if (user_input==1):\n",
    "    metric_variables(1,test,train)\n",
    "else:\n",
    "    metric_variables(1,test1,train1)\n"
   ]
  },
  {
   "cell_type": "code",
   "execution_count": 232,
   "metadata": {},
   "outputs": [
    {
     "name": "stderr",
     "output_type": "stream",
     "text": [
      "/anaconda3/lib/python3.6/site-packages/ipykernel_launcher.py:22: SettingWithCopyWarning: \n",
      "A value is trying to be set on a copy of a slice from a DataFrame\n",
      "\n",
      "See the caveats in the documentation: http://pandas.pydata.org/pandas-docs/stable/indexing.html#indexing-view-versus-copy\n"
     ]
    },
    {
     "name": "stdout",
     "output_type": "stream",
     "text": [
      "CONFUSION MATRIX\n",
      "True Positive = 211\n",
      "True Negative = 136\n",
      "False Negative = 62\n",
      "False Positive = 91\n",
      "Accuracy = 0.694\n",
      "True Positive Rate = 0.7728937728937729\n",
      "False Positive Rate = 0.4008810572687225\n"
     ]
    }
   ],
   "source": [
    "#for k=5\n",
    "metric_variables(5,test1,train1)"
   ]
  },
  {
   "cell_type": "code",
   "execution_count": null,
   "metadata": {
    "collapsed": true
   },
   "outputs": [],
   "source": []
  }
 ],
 "metadata": {
  "kernelspec": {
   "display_name": "Python 3",
   "language": "python",
   "name": "python3"
  },
  "language_info": {
   "codemirror_mode": {
    "name": "ipython",
    "version": 3
   },
   "file_extension": ".py",
   "mimetype": "text/x-python",
   "name": "python",
   "nbconvert_exporter": "python",
   "pygments_lexer": "ipython3",
   "version": "3.6.3"
  }
 },
 "nbformat": 4,
 "nbformat_minor": 2
}
