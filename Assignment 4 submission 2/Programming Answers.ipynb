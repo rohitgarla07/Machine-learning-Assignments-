{
 "cells": [
  {
   "cell_type": "markdown",
   "metadata": {},
   "source": [
    "# Assignmnet 4"
   ]
  },
  {
   "cell_type": "markdown",
   "metadata": {},
   "source": [
    "## Rohit Garla - rg3365"
   ]
  },
  {
   "cell_type": "markdown",
   "metadata": {},
   "source": [
    "# 1"
   ]
  },
  {
   "cell_type": "markdown",
   "metadata": {},
   "source": [
    "a)"
   ]
  },
  {
   "cell_type": "code",
   "execution_count": 76,
   "metadata": {
    "collapsed": true
   },
   "outputs": [],
   "source": [
    "import numpy as np  \n",
    "import pandas as pd\n",
    "from pandas import Series, DataFrame\n",
    "import matplotlib.pyplot as plt  \n",
    "import pylab\n",
    "import numpy\n",
    "from sympy import *\n",
    "from nltk.corpus import stopwords\n",
    "import math\n",
    "from sklearn.metrics import accuracy_score\n",
    "from sklearn.metrics import confusion_matrix"
   ]
  },
  {
   "cell_type": "code",
   "execution_count": 36,
   "metadata": {
    "scrolled": true
   },
   "outputs": [
    {
     "data": {
      "image/png": "[encoded data removed]",
      "text/plain": [
       "<Figure size 432x288 with 1 Axes>"
      ]
     },
     "metadata": {},
     "output_type": "display_data"
    }
   ],
   "source": [
    "xValue = numpy.linspace(-4,4,100) # 100 linearly spaced numbers\n",
    "yValue = (2*(xValue**4))-(2*(xValue**3))- (12*(xValue**2))+ 6\n",
    "# compose plot\n",
    "pylab.plot(xValue,yValue) \n",
    "pylab.show() "
   ]
  },
  {
   "cell_type": "code",
   "execution_count": 39,
   "metadata": {},
   "outputs": [
    {
     "name": "stdout",
     "output_type": "stream",
     "text": [
      "Global minima of the function is at x = 2.1471808598447284\n",
      "Local minima of the function is at x = -1.397180859844728\n"
     ]
    }
   ],
   "source": [
    "# Derivative of the equation comes out to be: 8*(x**3) - 6*(x**2) -24*x \n",
    "\n",
    "### Solving the cubic equation using Numpy\n",
    "roots = np.roots([8, -6, -24, 0])\n",
    "print (\"Global minima of the function is at x =\", roots[0])\n",
    "print (\"Local minima of the function is at x =\", roots[1])"
   ]
  },
  {
   "cell_type": "markdown",
   "metadata": {},
   "source": [
    "b) "
   ]
  },
  {
   "cell_type": "code",
   "execution_count": 32,
   "metadata": {},
   "outputs": [
    {
     "name": "stdout",
     "output_type": "stream",
     "text": [
      "Before entering the iteration Value of x is: -4 Value of f is: 454\n",
      "At the end of iteration 1 Value of x is: -3.488 Value of f is: 240.907412201472\n",
      "At the end of iteration 2 Value of x is: -3.159231053824 Value of f is: 148.52441854620668\n",
      "At the end of iteration 3 Value of x is: -2.922916422502639 Value of f is: 99.4029877988203\n",
      "At the end of iteration 4 Value of x is: -2.7420316758639505 Value of f is: 70.07121494417243\n",
      "At the end of iteration 5 Value of x is: -2.5977950740777596 Value of f is: 51.16573699678769\n",
      "At the end of iteration 6 Value of x is: -2.479400344271616 Value of f is: 38.296442311327496\n"
     ]
    }
   ],
   "source": [
    "from sympy import *\n",
    "def apply_grad_descent(x, xval, f, step_size, iterations):\n",
    "    '''\n",
    "    x - an integer, need to get an optimal value for it\n",
    "    f - the function of x,\n",
    "    step_size - controls how \"small\" or \"big\" of a step to take\n",
    "    iterations - how many times to update x\n",
    "    '''\n",
    "    int_f = lambdify(x, f, 'numpy')\n",
    "    val_of_func = int_f(xval)\n",
    "    print(\"Before entering the iteration\", \"Value of x is:\", xval, \"Value of f is:\", val_of_func)\n",
    "    for i in range(1, iterations+1):\n",
    "        \n",
    "        #Differentiate the function 'f' w.r.t x\n",
    "        diff_x = f.diff(x)\n",
    "        \n",
    "        #int_f will again compute the differentiation the function 'f' w.r.t x\n",
    "        int_f = lambdify(x, diff_x, 'numpy')\n",
    "        \n",
    "        #This will compute the value of function at xval\n",
    "        val_of_func = int_f(xval)\n",
    "        \n",
    "        #Updating the value of x (xval) by the formula\n",
    "        xval = xval + (-step_size * val_of_func)\n",
    "        \n",
    "       \n",
    "        #\n",
    "        int_f2 = lambdify(x, f, 'numpy')\n",
    "        \n",
    "        if i > 1194 or i <= 6:\n",
    "            print(\"At the end of iteration\", i, \"Value of x is:\", xval, \"Value of f is:\", int_f2(xval))\n",
    "       \n",
    "        \n",
    "x=Symbol('x')\n",
    "apply_grad_descent(x, -4, (2*(x**4))-(2*(x**3))- (12*(x**2))+ 6, 0.001, 6)"
   ]
  },
  {
   "cell_type": "code",
   "execution_count": 30,
   "metadata": {},
   "outputs": [
    {
     "name": "stdout",
     "output_type": "stream",
     "text": [
      "Before entering the iteration Value of x is: -4 Value of f is: 454\n",
      "At the end of iteration 1 Value of x is: -3.488 Value of f is: 240.907412201472\n",
      "At the end of iteration 2 Value of x is: -3.159231053824 Value of f is: 148.52441854620668\n",
      "At the end of iteration 3 Value of x is: -2.922916422502639 Value of f is: 99.4029877988203\n",
      "At the end of iteration 4 Value of x is: -2.7420316758639505 Value of f is: 70.07121494417243\n",
      "At the end of iteration 5 Value of x is: -2.5977950740777596 Value of f is: 51.16573699678769\n",
      "At the end of iteration 6 Value of x is: -2.479400344271616 Value of f is: 38.296442311327496\n",
      "At the end of iteration 1195 Value of x is: -1.3971808598447308 Value of f is: -4.348957724100303\n",
      "At the end of iteration 1196 Value of x is: -1.3971808598447308 Value of f is: -4.348957724100303\n",
      "At the end of iteration 1197 Value of x is: -1.3971808598447308 Value of f is: -4.348957724100303\n",
      "At the end of iteration 1198 Value of x is: -1.3971808598447308 Value of f is: -4.348957724100303\n",
      "At the end of iteration 1199 Value of x is: -1.3971808598447308 Value of f is: -4.348957724100303\n",
      "At the end of iteration 1200 Value of x is: -1.3971808598447308 Value of f is: -4.348957724100303\n"
     ]
    }
   ],
   "source": [
    "apply_grad_descent(x, -4, (2*(x**4))-(2*(x**3))- (12*(x**2))+ 6, 0.001, 1200)"
   ]
  },
  {
   "cell_type": "markdown",
   "metadata": {},
   "source": [
    "c)"
   ]
  },
  {
   "cell_type": "code",
   "execution_count": 31,
   "metadata": {},
   "outputs": [
    {
     "name": "stdout",
     "output_type": "stream",
     "text": [
      "Before entering the iteration Value of x is: 4 Value of f is: 198\n",
      "At the end of iteration 1 Value of x is: 3.68 Value of f is: 110.61233152\n",
      "At the end of iteration 2 Value of x is: 3.450886144 Value of f is: 64.53629857986431\n",
      "At the end of iteration 3 Value of x is: 3.276396901609702 Value of f is: 37.31076190742675\n",
      "At the end of iteration 4 Value of x is: 3.138067975365072 Value of f is: 19.971643359608066\n",
      "At the end of iteration 5 Value of x is: 3.0252501730040535 Value of f is: 8.322601113072949\n",
      "At the end of iteration 6 Value of x is: 2.9312689375235244 Value of f is: 0.17557478693808548\n",
      "At the end of iteration 1195 Value of x is: 2.1471808598447315 Value of f is: -26.611979775899698\n",
      "At the end of iteration 1196 Value of x is: 2.1471808598447315 Value of f is: -26.611979775899698\n",
      "At the end of iteration 1197 Value of x is: 2.1471808598447315 Value of f is: -26.611979775899698\n",
      "At the end of iteration 1198 Value of x is: 2.1471808598447315 Value of f is: -26.611979775899698\n",
      "At the end of iteration 1199 Value of x is: 2.1471808598447315 Value of f is: -26.611979775899698\n",
      "At the end of iteration 1200 Value of x is: 2.1471808598447315 Value of f is: -26.611979775899698\n"
     ]
    }
   ],
   "source": [
    "apply_grad_descent(x, 4, (2*(x**4))-(2*(x**3))- (12*(x**2))+ 6, 0.001, 1200)"
   ]
  },
  {
   "cell_type": "markdown",
   "metadata": {},
   "source": [
    "d)"
   ]
  },
  {
   "cell_type": "code",
   "execution_count": 33,
   "metadata": {},
   "outputs": [
    {
     "name": "stdout",
     "output_type": "stream",
     "text": [
      "Before entering the iteration Value of x is: -4 Value of f is: 454\n",
      "At the end of iteration 1 Value of x is: 1.12 Value of f is: -8.71561728\n",
      "At the end of iteration 2 Value of x is: 1.35166976 Value of f is: -14.187225687602176\n",
      "At the end of iteration 3 Value of x is: 1.5881299140655707 Value of f is: -19.554356180837104\n",
      "At the end of iteration 4 Value of x is: 1.8001695002820235 Value of f is: -23.55150883046352\n",
      "At the end of iteration 5 Value of x is: 1.9599549783032466 Value of f is: -25.642047221895847\n",
      "At the end of iteration 6 Value of x is: 2.0585082124451546 Value of f is: -26.383081197323108\n",
      "At the end of iteration 1195 Value of x is: 2.147180859844728 Value of f is: -26.61197977589969\n",
      "At the end of iteration 1196 Value of x is: 2.147180859844728 Value of f is: -26.61197977589969\n",
      "At the end of iteration 1197 Value of x is: 2.147180859844728 Value of f is: -26.61197977589969\n",
      "At the end of iteration 1198 Value of x is: 2.147180859844728 Value of f is: -26.61197977589969\n",
      "At the end of iteration 1199 Value of x is: 2.147180859844728 Value of f is: -26.61197977589969\n",
      "At the end of iteration 1200 Value of x is: 2.147180859844728 Value of f is: -26.61197977589969\n"
     ]
    }
   ],
   "source": [
    "apply_grad_descent(x, -4, (2*(x**4))-(2*(x**3))- (12*(x**2))+ 6, 0.01, 1200)"
   ]
  },
  {
   "cell_type": "markdown",
   "metadata": {},
   "source": [
    "e)"
   ]
  },
  {
   "cell_type": "code",
   "execution_count": 35,
   "metadata": {},
   "outputs": [
    {
     "name": "stdout",
     "output_type": "stream",
     "text": [
      "Before entering the iteration Value of x is: -4 Value of f is: 454\n",
      "At the end of iteration 1 Value of x is: 47.2 Value of f is: 9689505.955200002\n",
      "At the end of iteration 2 Value of x is: -82626.05440000004 Value of f is: 9.32187574662132e+19\n",
      "At the end of iteration 3 Value of x is: 451278842347294.25 Value of f is: 8.294875771953866e+58\n",
      "At the end of iteration 4 Value of x is: -7.352328532672769e+43 Value of f is: 5.8442611657954316e+175\n",
      "At the end of iteration 5 Value of x is: 3.1795429923047176e+131 Value of f is: nan\n",
      "At the end of iteration 6 Value of x is: -inf Value of f is: nan\n"
     ]
    },
    {
     "name": "stderr",
     "output_type": "stream",
     "text": [
      "/anaconda3/lib/python3.6/site-packages/numpy/__init__.py:1: RuntimeWarning: overflow encountered in power\n",
      "  \"\"\"\n",
      "/anaconda3/lib/python3.6/site-packages/numpy/__init__.py:1: RuntimeWarning: invalid value encountered in double_scalars\n",
      "  \"\"\"\n",
      "/anaconda3/lib/python3.6/site-packages/numpy/__init__.py:1: RuntimeWarning: overflow encountered in power\n",
      "  \"\"\"\n",
      "/anaconda3/lib/python3.6/site-packages/numpy/__init__.py:1: RuntimeWarning: invalid value encountered in double_scalars\n",
      "  \"\"\"\n",
      "/anaconda3/lib/python3.6/site-packages/numpy/__init__.py:1: RuntimeWarning: invalid value encountered in double_scalars\n",
      "  \"\"\"\n"
     ]
    }
   ],
   "source": [
    "apply_grad_descent(x, -4, (2*(x**4))-(2*(x**3))- (12*(x**2))+ 6, 0.1, 100)"
   ]
  },
  {
   "cell_type": "markdown",
   "metadata": {},
   "source": [
    "# Part II : Programming Exercise"
   ]
  },
  {
   "cell_type": "markdown",
   "metadata": {},
   "source": [
    "# 5"
   ]
  },
  {
   "cell_type": "code",
   "execution_count": 26,
   "metadata": {
    "collapsed": true
   },
   "outputs": [],
   "source": [
    "# Loading Comma Seperated Data using read_table pandas function in 'reviews_train_data' dataframe\n",
    "reviews_train_data = pd.read_csv(\"reviewstrain.txt\", delimiter=\"\\t\", header=None)\n",
    "reviews_train_data = pd.DataFrame(reviews_train_data)\n",
    "reviews_test_data = pd.read_csv(\"reviewstest.txt\",delimiter = \"\\t\",header = None)\n",
    "reviews_test_data = pd.DataFrame(reviews_test_data)"
   ]
  },
  {
   "cell_type": "code",
   "execution_count": 27,
   "metadata": {
    "collapsed": true
   },
   "outputs": [],
   "source": [
    "reviews_train_data = pd.DataFrame(reviews_train_data[0].str.split(' ',1).tolist(), columns = ['label','reviews_text'])\n",
    "reviews_test_data = pd.DataFrame(reviews_test_data[0].str.split(' ',1).tolist(), columns = ['label','reviews_text'])"
   ]
  },
  {
   "cell_type": "code",
   "execution_count": 28,
   "metadata": {
    "collapsed": true
   },
   "outputs": [],
   "source": [
    "def popK(k,vocabulary):\n",
    "    import heapq\n",
    "    L = heapq.nlargest(k, vocabulary, key=vocabulary.get)\n",
    "    return L"
   ]
  },
  {
   "cell_type": "code",
   "execution_count": 29,
   "metadata": {
    "collapsed": true
   },
   "outputs": [],
   "source": [
    "def mostfreq(reviews_train_data,k):\n",
    "    vocabularyw={}\n",
    "    c=0\n",
    "    #with stopwords              \n",
    "    for x in range(len(reviews_train_data)):\n",
    "        y = reviews_train_data['reviews_text'][x].split()\n",
    "        for i in y:\n",
    "            #print(i)\n",
    "            if i in vocabularyw:\n",
    "                vocabularyw[i] = vocabularyw[i] + 1\n",
    "            else:\n",
    "                vocabularyw[i] = c + 1\n",
    "    M = popK(k,vocabularyw)\n",
    "    print (\"with stopwords\"+str(M))\n",
    "    return list(vocabularyw)"
   ]
  },
  {
   "cell_type": "markdown",
   "metadata": {},
   "source": [
    "## (a) Most frequent"
   ]
  },
  {
   "cell_type": "code",
   "execution_count": 30,
   "metadata": {},
   "outputs": [
    {
     "name": "stdout",
     "output_type": "stream",
     "text": [
      "with stopwords['.', ',', 'the', 'a', 'and']\n"
     ]
    }
   ],
   "source": [
    "token_list = mostfreq(reviews_train_data,5)"
   ]
  },
  {
   "cell_type": "code",
   "execution_count": 31,
   "metadata": {
    "collapsed": true
   },
   "outputs": [],
   "source": [
    "def genVocab(reviews_train_data,token_list):\n",
    "    vocabulary_token_list = ['label'] + token_list\n",
    "    vocabulary  = pd.DataFrame(columns = vocabulary_token_list)\n",
    "    vocabulary['label'] = reviews_train_data['label']\n",
    "    for x in range(len(reviews_train_data)):\n",
    "        y = reviews_train_data['reviews_text'][x].split()\n",
    "        for i in y:\n",
    "            if i in token_list:\n",
    "                vocabulary[i][x] = '1'\n",
    "    #print (vocabulary)\n",
    "    vocabulary.fillna('0', inplace =True)\n",
    "    return (vocabulary)"
   ]
  },
  {
   "cell_type": "code",
   "execution_count": 33,
   "metadata": {
    "collapsed": true
   },
   "outputs": [],
   "source": [
    "def highInfo(reviews_train_data,token_list):\n",
    "    d={}\n",
    "    e={}\n",
    "    vocabulary = genVocab(reviews_train_data,token_list)\n",
    "    y = vocabulary['label'].value_counts()\n",
    "    PE =  -((y['0']/len(vocabulary))*math.log2(y['0']/len(vocabulary)))-((y['1']/len(vocabulary))*math.log2(y['1']/len(vocabulary)))\n",
    "    for x in token_list:\n",
    "        y = vocabulary[x].value_counts()\n",
    "        d['1'] = y['1']\n",
    "        d['0'] = y['0']\n",
    "        df1  = vocabulary.loc[vocabulary[x] == '1']\n",
    "        z1 = (df1['label'].value_counts())\n",
    "\n",
    "        if (len(z1)==2):\n",
    "            p0 = z1['0']\n",
    "            p1 = z1['1']\n",
    "            CE1 = -((int(p0)/len(df1))*math.log2(int(p0)/len(df1)))-((int(p1)/len(df1))*math.log2(int(p1)/len(df1)))\n",
    "        else:\n",
    "            if ('0' in z1.index.values):\n",
    "                p0 = z1['0']\n",
    "                p1 = 0\n",
    "                CE1 = -((int(p0)/len(df1))*math.log2(int(p0)/len(df1)))\n",
    "            elif ('1' in z1.index.values):\n",
    "                p0 = 0\n",
    "                p1 = z1['1']\n",
    "                CE1 = -((int(p1)/len(df1))*math.log2(int(p1)/len(df1)))\n",
    "                \n",
    "        df2  = vocabulary.loc[vocabulary[x] == '0']\n",
    "        z2 = (df2['label'].value_counts())\n",
    "        \n",
    "        if (len(z2)==2):\n",
    "            p0 = z2['0']\n",
    "            p1 = z2['1']\n",
    "            CE2 = -((p0/len(df2))*math.log2(p0/len(df2)))-((p1/len(df2))*math.log2(p1/len(df2)))\n",
    "        else:\n",
    "            if ('0' in z1.index.values):\n",
    "                p0 = z2['0']\n",
    "                p1 = 0\n",
    "                CE2 = -((p0/len(df2))*math.log2(p0/len(df2)))\n",
    "            elif ('1' in z1.index.values):\n",
    "                p0 = 0\n",
    "                p1 = z2['1']\n",
    "                CE2 = -((p1/len(df2))*math.log2(p1/len(df2)))\n",
    "\n",
    "        d[\"InfoGain\"] = PE - (len(df1)/len(vocabulary)*CE1) - (len(df2)/len(vocabulary)*CE2)\n",
    "        e[x] = d['InfoGain']\n",
    "        d={}\n",
    "    #creating the top attribute vocabulary \n",
    "    #print(newvocab)\n",
    "    return e"
   ]
  },
  {
   "cell_type": "code",
   "execution_count": 34,
   "metadata": {
    "collapsed": true
   },
   "outputs": [],
   "source": [
    "infoD = highInfo(reviews_train_data,token_list)"
   ]
  },
  {
   "cell_type": "code",
   "execution_count": 17,
   "metadata": {
    "collapsed": true
   },
   "outputs": [],
   "source": [
    "def topklist(e,k):\n",
    "    L = popK(k,e)\n",
    "    newvocab = {}\n",
    "    for x in L:\n",
    "        newvocab[x] = e[x]\n",
    "    return L"
   ]
  },
  {
   "cell_type": "code",
   "execution_count": 19,
   "metadata": {
    "collapsed": true
   },
   "outputs": [],
   "source": [
    "sorted_token_list = topklist(infoD,len(infoD))"
   ]
  },
  {
   "cell_type": "code",
   "execution_count": 20,
   "metadata": {},
   "outputs": [
    {
     "data": {
      "text/plain": [
       "['bad',\n",
       " 'best',\n",
       " \"n't\",\n",
       " 'too',\n",
       " 'moving',\n",
       " 'and',\n",
       " 'no',\n",
       " 'entertaining',\n",
       " 'minutes',\n",
       " 'this',\n",
       " 'with',\n",
       " 'heart',\n",
       " 'dull',\n",
       " 'worst',\n",
       " 'stupid',\n",
       " 'beautifully',\n",
       " 'or',\n",
       " 'why',\n",
       " 'contrived',\n",
       " 'performance',\n",
       " 'powerful',\n",
       " 'plot',\n",
       " 'love',\n",
       " 'mess',\n",
       " 'jokes',\n",
       " 'rare',\n",
       " 'excellent',\n",
       " 'movie',\n",
       " 'terrible',\n",
       " 'unfunny',\n",
       " 'script',\n",
       " 'touching',\n",
       " 'performances',\n",
       " 'documentary',\n",
       " '?',\n",
       " 'any',\n",
       " 'portrait',\n",
       " 'solid',\n",
       " 'intriguing',\n",
       " 'hilarious',\n",
       " 'if',\n",
       " 'long',\n",
       " 'get',\n",
       " 'around',\n",
       " 'things',\n",
       " 'poorly',\n",
       " 'poor',\n",
       " 'it',\n",
       " 'would',\n",
       " \"'\",\n",
       " 'fascinating',\n",
       " 'predictable',\n",
       " 'so',\n",
       " 'thoughtful',\n",
       " 'engrossing',\n",
       " 'grace',\n",
       " 'quirky',\n",
       " 'our',\n",
       " 'different',\n",
       " 'gorgeous',\n",
       " 'eyes',\n",
       " 'beautiful',\n",
       " 'feels',\n",
       " 'neither',\n",
       " 'worse',\n",
       " 'horrible',\n",
       " 'tired',\n",
       " 'money',\n",
       " 'low',\n",
       " '`',\n",
       " ':',\n",
       " 'i',\n",
       " 'were',\n",
       " 'may',\n",
       " 'subtle',\n",
       " 'remarkable',\n",
       " 'riveting',\n",
       " 'creates',\n",
       " 'refreshing',\n",
       " 'crafted',\n",
       " 'highly',\n",
       " 'animated',\n",
       " 'intelligence',\n",
       " 'extraordinary',\n",
       " 'fun',\n",
       " 'romantic',\n",
       " 'out',\n",
       " 'there',\n",
       " 'brilliant',\n",
       " 'to',\n",
       " 'stealing',\n",
       " 'thin',\n",
       " 'disguise',\n",
       " 'effect',\n",
       " 'starts',\n",
       " 'pathetic',\n",
       " 'barely',\n",
       " 'unnecessary',\n",
       " 'pacing',\n",
       " 'problem',\n",
       " 'tedious',\n",
       " 'school',\n",
       " 'awful',\n",
       " 'car',\n",
       " 'pointless',\n",
       " 'loud',\n",
       " 'superficial',\n",
       " 'nor',\n",
       " 'me',\n",
       " 'funny',\n",
       " 'great',\n",
       " 'even',\n",
       " 'fails',\n",
       " 'video',\n",
       " 'hour',\n",
       " 'less',\n",
       " 'goes',\n",
       " 'ugly',\n",
       " 'year',\n",
       " 'down',\n",
       " 'girl',\n",
       " 'perfectly',\n",
       " 'stunning',\n",
       " 'reveals',\n",
       " 'wonderful',\n",
       " 'moore',\n",
       " 'storytelling',\n",
       " 'vibrant',\n",
       " 'use',\n",
       " 'just',\n",
       " 'tale',\n",
       " 'film',\n",
       " 'films',\n",
       " 'worth',\n",
       " 'compelling',\n",
       " 'dialogue',\n",
       " 'be',\n",
       " 'lazy',\n",
       " 'insulting',\n",
       " '90',\n",
       " 'amateurish',\n",
       " 'hastily',\n",
       " 'junk',\n",
       " 'purpose',\n",
       " 'crap',\n",
       " 'slow',\n",
       " 'holes',\n",
       " 'formulaic',\n",
       " 'virtually',\n",
       " 'ludicrous',\n",
       " 'utterly',\n",
       " 'annoying',\n",
       " 'collection',\n",
       " 'exploitation',\n",
       " 'nowhere',\n",
       " 'involved',\n",
       " 'room',\n",
       " 'left',\n",
       " 'flat',\n",
       " 'bears',\n",
       " 'exactly',\n",
       " 'unfocused',\n",
       " 'walked',\n",
       " 'lawrence',\n",
       " 'nothing',\n",
       " 'poignant',\n",
       " 'amazing',\n",
       " 'ride',\n",
       " 'delightful',\n",
       " 'study',\n",
       " 'witty',\n",
       " 'sensitive',\n",
       " 'imagination',\n",
       " 'heartwarming',\n",
       " 'spectacular',\n",
       " 'imax',\n",
       " 'breathtaking',\n",
       " 'superb',\n",
       " 'oscar',\n",
       " 'others',\n",
       " 'blue',\n",
       " 'haunting',\n",
       " 'brings',\n",
       " 'visually',\n",
       " 'captivating',\n",
       " 'rich',\n",
       " 'inventive',\n",
       " 'delightfully',\n",
       " 'dazzling',\n",
       " 'smart',\n",
       " 'always',\n",
       " 'terrific',\n",
       " 'comic',\n",
       " 'feature',\n",
       " 'theater',\n",
       " 'boring',\n",
       " 'world',\n",
       " 'us',\n",
       " 'had',\n",
       " 'while',\n",
       " 'first',\n",
       " 'before',\n",
       " 'have',\n",
       " 'should',\n",
       " 'both',\n",
       " 'thing',\n",
       " 'most',\n",
       " 'her',\n",
       " 'history',\n",
       " 'for',\n",
       " 'a',\n",
       " \"'d\",\n",
       " 'fact',\n",
       " 'did',\n",
       " 'stirring',\n",
       " 'culture',\n",
       " 'impressive',\n",
       " 'become',\n",
       " 'moviemaking',\n",
       " 'quiet',\n",
       " 'photographed',\n",
       " 'jones',\n",
       " 'respect',\n",
       " 'spirit',\n",
       " 'warm',\n",
       " 'polanski',\n",
       " 'stylish',\n",
       " 'kinnear',\n",
       " 'exceptional',\n",
       " 'traditional',\n",
       " 'originality',\n",
       " 'sharp',\n",
       " 'historical',\n",
       " 'frame',\n",
       " 'richly',\n",
       " 'edge',\n",
       " 'sexy',\n",
       " 'friendship',\n",
       " 'america',\n",
       " 'probably',\n",
       " 'enthralling',\n",
       " 'deep',\n",
       " 'odd',\n",
       " 'detail',\n",
       " 'masterful',\n",
       " 'robert',\n",
       " 'spy',\n",
       " 'behold',\n",
       " 'detailed',\n",
       " 'insightful',\n",
       " 'strange',\n",
       " 'career',\n",
       " 'minor',\n",
       " 'inspiring',\n",
       " 'tears',\n",
       " 'bittersweet',\n",
       " 'jealousy',\n",
       " 'endearing',\n",
       " 'deft',\n",
       " 'spider-man',\n",
       " 'confident',\n",
       " 'heartfelt',\n",
       " 'provides',\n",
       " 'gangster',\n",
       " 'touched',\n",
       " 'splendid',\n",
       " 'act',\n",
       " 'disney',\n",
       " 'where',\n",
       " 'waste',\n",
       " 'well',\n",
       " 'ca',\n",
       " 'another',\n",
       " 'imagine',\n",
       " 'animal',\n",
       " 'crass',\n",
       " 'hot',\n",
       " 'disappointing',\n",
       " 'studios',\n",
       " 'tv',\n",
       " 'none',\n",
       " 'incoherence',\n",
       " 'pretends',\n",
       " 'build',\n",
       " 'insipid',\n",
       " 'supposed',\n",
       " 'mean',\n",
       " 'sum',\n",
       " 'sit',\n",
       " 'teen',\n",
       " 'rejected',\n",
       " 'adventures',\n",
       " 'stinker',\n",
       " 'offensive',\n",
       " 'incoherent',\n",
       " 'mediocre',\n",
       " 'mindless',\n",
       " 'surface',\n",
       " 'sluggish',\n",
       " 'disgusting',\n",
       " 'sordid',\n",
       " 'central',\n",
       " 'taste',\n",
       " 'raised',\n",
       " 'tries',\n",
       " 'failure',\n",
       " 'quickly',\n",
       " 'already',\n",
       " 'spent',\n",
       " 'fatal',\n",
       " 'muddled',\n",
       " 'soap',\n",
       " 'resolutely',\n",
       " 'attempt',\n",
       " 'pay',\n",
       " 'stereotypes',\n",
       " 'unfortunately',\n",
       " 'trite',\n",
       " 'disjointed',\n",
       " 'execution',\n",
       " 'getting',\n",
       " 'forgettable',\n",
       " 'eddie',\n",
       " 'wasted',\n",
       " 'kevin',\n",
       " 'budget',\n",
       " 'product',\n",
       " 'dubbed',\n",
       " 'skip',\n",
       " 'surely',\n",
       " 'devoid',\n",
       " 'cynical',\n",
       " 'drag',\n",
       " 'target',\n",
       " 'depressing',\n",
       " 'sloppy',\n",
       " 'college',\n",
       " 'attraction',\n",
       " 'obnoxious',\n",
       " 'irritating',\n",
       " 'sorority',\n",
       " 'frustrating',\n",
       " 'exploitative',\n",
       " 'hands',\n",
       " 'save',\n",
       " 'happen',\n",
       " 'retread',\n",
       " 'bleak',\n",
       " 'yes',\n",
       " 'scary',\n",
       " 'sitting',\n",
       " 'opportunity',\n",
       " 'doubt',\n",
       " 'pick',\n",
       " 'cliched',\n",
       " 'forced',\n",
       " 'older',\n",
       " 'affair',\n",
       " 'clear',\n",
       " 'choppy',\n",
       " 'editing',\n",
       " 'single',\n",
       " 'leaden',\n",
       " 'deadly',\n",
       " 'either',\n",
       " 'ways',\n",
       " 'kids',\n",
       " 'work',\n",
       " 'music',\n",
       " 'way',\n",
       " 'on',\n",
       " 'half',\n",
       " 'universal',\n",
       " 'filmmaker',\n",
       " 'thanks',\n",
       " 'perfect',\n",
       " 'fine',\n",
       " 'keep',\n",
       " 'him',\n",
       " 'intelligent',\n",
       " 'flick',\n",
       " 'like',\n",
       " 'years',\n",
       " 'one',\n",
       " 'charming',\n",
       " 'go',\n",
       " 'anything',\n",
       " 'family',\n",
       " 'beast',\n",
       " 'poem',\n",
       " 'skillful',\n",
       " 'message',\n",
       " 'walk',\n",
       " 'uplifting',\n",
       " 'document',\n",
       " 'finest',\n",
       " 'light',\n",
       " 'backstage',\n",
       " 'tells',\n",
       " 'unique',\n",
       " 'delivers',\n",
       " '&',\n",
       " 'treat',\n",
       " 'paxton',\n",
       " 'deftly',\n",
       " 'horrifying',\n",
       " 'tour',\n",
       " 'brutal',\n",
       " 'unexpected',\n",
       " 'playful',\n",
       " 'wise',\n",
       " 'side',\n",
       " 'predecessor',\n",
       " 'masterfully',\n",
       " 'gosling',\n",
       " 'lane',\n",
       " 'mesmerizing',\n",
       " 'touch',\n",
       " 'kissing',\n",
       " 'jessica',\n",
       " 'intoxicating',\n",
       " 'pieces',\n",
       " 'overall',\n",
       " 'thought-provoking',\n",
       " 'transcends',\n",
       " 'holiday',\n",
       " 'superbly',\n",
       " 'ghetto',\n",
       " 'enthusiastic',\n",
       " 'sentimental',\n",
       " 'believable',\n",
       " 'immensely',\n",
       " 'ambitious',\n",
       " 'successful',\n",
       " 'accomplished',\n",
       " 'pulls',\n",
       " 'effortlessly',\n",
       " 'impeccable',\n",
       " 'courage',\n",
       " 'understated',\n",
       " 'colorful',\n",
       " 'creative',\n",
       " 'tension',\n",
       " 'conflict',\n",
       " 'e.t.',\n",
       " 'washington',\n",
       " 'ingenious',\n",
       " 'crisp',\n",
       " 'fan',\n",
       " 'evocative',\n",
       " 'roles',\n",
       " 'joy',\n",
       " 'viewing',\n",
       " 'smile',\n",
       " 'needed',\n",
       " 'pleasures',\n",
       " 'twisted',\n",
       " 'food',\n",
       " 'ahead',\n",
       " 'fight',\n",
       " 'photography',\n",
       " 'compellingly',\n",
       " 'contemporary',\n",
       " 'gentle',\n",
       " 'occasionally',\n",
       " 'pleasurable',\n",
       " 'pianist',\n",
       " 'sequence',\n",
       " 'bringing',\n",
       " 'battle',\n",
       " 'decades',\n",
       " 'elegant',\n",
       " 'hugely',\n",
       " 'faithful',\n",
       " 'meditation',\n",
       " 'combines',\n",
       " 'no.',\n",
       " '1',\n",
       " 'form',\n",
       " 'kid',\n",
       " 'based',\n",
       " 'parable',\n",
       " 'rendered',\n",
       " 'performed',\n",
       " 'nomination',\n",
       " 'affecting',\n",
       " 'supporting',\n",
       " 'eye',\n",
       " 'created',\n",
       " 'ages',\n",
       " 'unforced',\n",
       " 'intimate',\n",
       " 'cool',\n",
       " 'locales',\n",
       " 'intelligently',\n",
       " 'jack',\n",
       " 'day',\n",
       " 'changing',\n",
       " 'remarkably',\n",
       " 'provocative',\n",
       " 'old-fashioned',\n",
       " 'wonderfully',\n",
       " 'pacino',\n",
       " 'tragedy',\n",
       " 'man',\n",
       " 'not',\n",
       " 'harvard',\n",
       " 'pretentious',\n",
       " 'must',\n",
       " 'bunch',\n",
       " 'generic',\n",
       " 'lacking',\n",
       " 'same',\n",
       " 'run',\n",
       " 'viewers',\n",
       " 'ending',\n",
       " 'entire',\n",
       " ',',\n",
       " 'hard',\n",
       " \"'ll\",\n",
       " 'an',\n",
       " 'cast',\n",
       " 'who',\n",
       " 'idea',\n",
       " 'completely',\n",
       " 'passion',\n",
       " 'stories',\n",
       " 'summer',\n",
       " 'enjoyable',\n",
       " 'simple',\n",
       " 'satisfying',\n",
       " 'nice',\n",
       " 'right',\n",
       " 'each',\n",
       " 'spielberg',\n",
       " 'exciting',\n",
       " 'adventure',\n",
       " 'along',\n",
       " 'glaring',\n",
       " 'homage',\n",
       " 'scattered',\n",
       " 'chosen',\n",
       " 'commentary',\n",
       " 'weight',\n",
       " 'sappy',\n",
       " 'maker',\n",
       " 'frankly',\n",
       " 'looked',\n",
       " 'giant',\n",
       " 'slip',\n",
       " 'lousy',\n",
       " 'unintentionally',\n",
       " 'dullest',\n",
       " 'happening',\n",
       " 'stupidity',\n",
       " 'abandon',\n",
       " 'bogs',\n",
       " 'frustratingly',\n",
       " 'soggy',\n",
       " 'grade',\n",
       " 'morbid',\n",
       " 'cumulative',\n",
       " 'website',\n",
       " 'clumsy',\n",
       " 'laughably',\n",
       " 'unconvincing',\n",
       " 'onscreen',\n",
       " 'stop',\n",
       " 'misery',\n",
       " 'enjoys',\n",
       " 'intentionally',\n",
       " 'costly',\n",
       " 'shoot',\n",
       " 'ham-fisted',\n",
       " 'contest',\n",
       " 'pluto',\n",
       " 'nash',\n",
       " 'incompetent',\n",
       " 'paced',\n",
       " 'pack',\n",
       " 'ears',\n",
       " 'dreary',\n",
       " 'bother',\n",
       " 'mother',\n",
       " 'paper-thin',\n",
       " 'developed',\n",
       " 'disaster',\n",
       " 'assumes',\n",
       " 'rooting',\n",
       " 'bogus',\n",
       " 'store',\n",
       " 'brilliance',\n",
       " 'house',\n",
       " 'literally',\n",
       " 'longest',\n",
       " 'oedekerk',\n",
       " 'personally',\n",
       " 'lacks',\n",
       " 'rip-off',\n",
       " 'limp',\n",
       " 'sticks',\n",
       " 'credibility',\n",
       " 'violent',\n",
       " 'adequate',\n",
       " 'laughable',\n",
       " 'plotting',\n",
       " 'glum',\n",
       " 'front',\n",
       " 'idiocy',\n",
       " 'justice',\n",
       " 'painfully',\n",
       " 'manipulative',\n",
       " 'convinced',\n",
       " '10',\n",
       " 'repulsive',\n",
       " '30',\n",
       " 'backdrops',\n",
       " 'incomprehensible',\n",
       " 'pit',\n",
       " 'sloppily',\n",
       " 'depressed',\n",
       " 'carvey',\n",
       " 'glory',\n",
       " 'lame',\n",
       " 'kiddie',\n",
       " 'weak',\n",
       " 'confused',\n",
       " 'jersey',\n",
       " 'flatter',\n",
       " 'wishing',\n",
       " 'grows',\n",
       " 'buy',\n",
       " 'boils',\n",
       " 'movement',\n",
       " 'bored',\n",
       " 'shooting',\n",
       " 'scream',\n",
       " 'aids',\n",
       " 'fizz',\n",
       " 'tiresomely',\n",
       " 'garbage',\n",
       " 'sucked',\n",
       " 'excess',\n",
       " 'suffers',\n",
       " 'undercut',\n",
       " 'meaning',\n",
       " 'ridiculous',\n",
       " 'insult',\n",
       " 'snooze',\n",
       " 'surrender',\n",
       " '9',\n",
       " 'throwing',\n",
       " 'whom',\n",
       " 'subtlety',\n",
       " 'inappropriate',\n",
       " 'infantile',\n",
       " 'fill',\n",
       " 'unimaginative',\n",
       " 'comedian',\n",
       " 'redundant',\n",
       " 'kung',\n",
       " 'pow',\n",
       " 'listless',\n",
       " 'witless',\n",
       " 'rating',\n",
       " 'derive',\n",
       " 'considering',\n",
       " 'paper',\n",
       " 'opening',\n",
       " 'clause',\n",
       " 'improve',\n",
       " 'terribly',\n",
       " 'hip',\n",
       " 'sake',\n",
       " 'digital',\n",
       " 'quick',\n",
       " 'cutting',\n",
       " 'blurry',\n",
       " 'dopey',\n",
       " 'kill',\n",
       " 'pile',\n",
       " 'firing',\n",
       " 'vehicle',\n",
       " 'embarrassed',\n",
       " 'nickleby',\n",
       " 'reading',\n",
       " 'played',\n",
       " 'absurd',\n",
       " 'idiotic',\n",
       " 'queen',\n",
       " 'characterizations',\n",
       " 'road-trip',\n",
       " 'quality',\n",
       " 'complications',\n",
       " 'nose',\n",
       " 'bearing',\n",
       " 'fit',\n",
       " 'liked',\n",
       " 'appalling',\n",
       " 'former',\n",
       " 'mayhem',\n",
       " 'surprises',\n",
       " 'tykwer',\n",
       " 'theatres',\n",
       " 'mckay',\n",
       " 'dreadful',\n",
       " 'earth',\n",
       " 'loose',\n",
       " 'vain',\n",
       " 'favorite',\n",
       " 'banal',\n",
       " 'hitting',\n",
       " 'doze',\n",
       " 'sin',\n",
       " 'mechanical',\n",
       " 'brought',\n",
       " 'drink',\n",
       " 'misfire',\n",
       " 'guess',\n",
       " 'toilet',\n",
       " 'swear',\n",
       " 'feces',\n",
       " 'overwrought',\n",
       " 'faster',\n",
       " 'dreck',\n",
       " 'travesty',\n",
       " 'static',\n",
       " 'soulless',\n",
       " 'joyless',\n",
       " 'turd',\n",
       " 'dud',\n",
       " 'missing',\n",
       " 'unpleasant',\n",
       " 'studio',\n",
       " 'typical',\n",
       " 'visible',\n",
       " 'strung-together',\n",
       " 'appears',\n",
       " 'otherwise',\n",
       " 'crude',\n",
       " 'highlight',\n",
       " 'gore',\n",
       " 'loathsome',\n",
       " 'inept',\n",
       " 'murky',\n",
       " 'screenwriter',\n",
       " 'flicks',\n",
       " 'disappointment',\n",
       " 'thinks',\n",
       " 'plodding',\n",
       " 'relentlessly',\n",
       " 'tried',\n",
       " 'rumor',\n",
       " 'angels',\n",
       " 'storyline',\n",
       " 'obligatory',\n",
       " 'below',\n",
       " 'ballistic',\n",
       " 'ecks',\n",
       " 'vs.',\n",
       " 'sever',\n",
       " 'flimsy',\n",
       " 'pileup',\n",
       " 'aims',\n",
       " 'bond',\n",
       " 'plotted',\n",
       " 'feathers',\n",
       " 'heavy-handed',\n",
       " 'wondering',\n",
       " 'claptrap',\n",
       " 'inane',\n",
       " 'sea',\n",
       " 'labored',\n",
       " 'mile',\n",
       " 'working-class',\n",
       " 'distasteful',\n",
       " 'cobbled',\n",
       " 'zero',\n",
       " 'charms',\n",
       " 'certain',\n",
       " 'inevitable',\n",
       " 'conclusion',\n",
       " 'heads',\n",
       " 'positively',\n",
       " 'showcase',\n",
       " 'analyze',\n",
       " 'been',\n",
       " 'is',\n",
       " 'style',\n",
       " 'whose',\n",
       " 'since',\n",
       " 'show',\n",
       " 'sure',\n",
       " 'hours',\n",
       " 'filmmakers',\n",
       " 'writing',\n",
       " 'believe',\n",
       " 'trying',\n",
       " 'reason',\n",
       " 'many',\n",
       " 'being',\n",
       " 'action',\n",
       " 'over',\n",
       " 'soon',\n",
       " 'steal',\n",
       " 'hybrid',\n",
       " 'minute',\n",
       " 'insecure',\n",
       " 'mothers',\n",
       " 'example',\n",
       " 'solaris',\n",
       " 'captivates',\n",
       " 'monty',\n",
       " 'spirits',\n",
       " 'singing',\n",
       " 'inspirational',\n",
       " 'capturing',\n",
       " 'cuts',\n",
       " 'means',\n",
       " 'schmidt',\n",
       " 'colour',\n",
       " 'thoughtfulness',\n",
       " 'smartly',\n",
       " 'visceral',\n",
       " 'trap',\n",
       " 'offering',\n",
       " 'faith',\n",
       " 'manage',\n",
       " 'spectacularly',\n",
       " 'outrageous',\n",
       " 'improbable',\n",
       " 'desperation',\n",
       " 'one-of-a-kind',\n",
       " 'force',\n",
       " 'protagonists',\n",
       " 'tully',\n",
       " 'ferrara',\n",
       " 'impressively',\n",
       " 'record',\n",
       " 'sides',\n",
       " 'oddly',\n",
       " 'winning',\n",
       " 'portrayal',\n",
       " 'rank',\n",
       " 'deceptively',\n",
       " 'simultaneously',\n",
       " 'offbeat',\n",
       " 'drumline',\n",
       " 'complicated',\n",
       " 'measured',\n",
       " 'silence',\n",
       " 'lambs',\n",
       " 'labute',\n",
       " 'becoming',\n",
       " 'zings',\n",
       " 'primary',\n",
       " 'unlike',\n",
       " 'panache',\n",
       " 'intellect',\n",
       " 'gripping',\n",
       " 'gere',\n",
       " 'recovery',\n",
       " 'unpredictable',\n",
       " 'race',\n",
       " 'natural',\n",
       " 'wry',\n",
       " 'magnificent',\n",
       " 'swooping',\n",
       " 'emerge',\n",
       " 'clear-eyed',\n",
       " 'confidence',\n",
       " 'morvern',\n",
       " 'seats',\n",
       " 'dealing',\n",
       " 'happy',\n",
       " 'near-masterpiece',\n",
       " 'british',\n",
       " 'twist',\n",
       " 'prevent',\n",
       " 'nicole',\n",
       " 'holofcener',\n",
       " 'add',\n",
       " 'sensual',\n",
       " 'amazingly',\n",
       " 'well-written',\n",
       " 'well-acted',\n",
       " 'brothers',\n",
       " 'slice',\n",
       " 'process',\n",
       " 'idemoto',\n",
       " 'diesel',\n",
       " 'elegance',\n",
       " 'tattoo',\n",
       " 'sobering',\n",
       " 'conversations',\n",
       " 'examines',\n",
       " 'happiness',\n",
       " 'charismatic',\n",
       " 'dustin',\n",
       " 'newcomer',\n",
       " 'feat',\n",
       " 'triumph',\n",
       " 'carries',\n",
       " 'low-key',\n",
       " 'eerie',\n",
       " 'slowly',\n",
       " 'burst',\n",
       " 'nicely',\n",
       " 'aimed',\n",
       " 'willing',\n",
       " 'iconoclastic',\n",
       " 'space',\n",
       " 'globe',\n",
       " 'awe-inspiring',\n",
       " 'crackles',\n",
       " 'spike',\n",
       " 'regardless',\n",
       " 'convince',\n",
       " 'improves',\n",
       " 'tremendous',\n",
       " 'heated',\n",
       " 'fontaine',\n",
       " 'sheerly',\n",
       " 'entertain',\n",
       " 'finely',\n",
       " 'generous',\n",
       " 'refusal',\n",
       " 'first-class',\n",
       " 'am',\n",
       " 'quirks',\n",
       " 'caesar',\n",
       " 'international',\n",
       " 'control',\n",
       " 'intensity',\n",
       " 'delight',\n",
       " 'slightly',\n",
       " 'monster',\n",
       " 'frequently',\n",
       " 'stein',\n",
       " 'date',\n",
       " 'guaranteed',\n",
       " 'ray',\n",
       " 'resist',\n",
       " 'wondrous',\n",
       " 'exterior',\n",
       " 'vivid',\n",
       " 'spirited',\n",
       " 'redemption',\n",
       " 'spiritual',\n",
       " 'power',\n",
       " 'catherine',\n",
       " 'superior',\n",
       " 'fisher',\n",
       " 'city',\n",
       " 'grind',\n",
       " 'slam-bang',\n",
       " 'convictions',\n",
       " 'sympathetic',\n",
       " 'pitch-perfect',\n",
       " 'imaginative',\n",
       " 'adds',\n",
       " 'touches',\n",
       " 'scratch',\n",
       " 'passions',\n",
       " 'forgiveness',\n",
       " 'heartbreaking',\n",
       " 'compassionate',\n",
       " 'events',\n",
       " 'returns',\n",
       " 'china',\n",
       " 'fiction',\n",
       " 'cautionary',\n",
       " 'breakthrough',\n",
       " 'multiple',\n",
       " 'controversy',\n",
       " 'ethics',\n",
       " 'moral',\n",
       " 'rival',\n",
       " 'effectively',\n",
       " 'territory',\n",
       " 'raimi',\n",
       " 'directors',\n",
       " 'soul',\n",
       " 'feelings',\n",
       " 'sparkling',\n",
       " 'stands',\n",
       " 'well-paced',\n",
       " 'dare',\n",
       " 'adrenalin',\n",
       " 'unabashedly',\n",
       " 'godard',\n",
       " 'unexpectedly',\n",
       " 'won',\n",
       " 'huppert',\n",
       " 'complexities',\n",
       " 'treasure',\n",
       " 'ranks',\n",
       " 'energetic',\n",
       " 'comics',\n",
       " 'crowd',\n",
       " ...]"
      ]
     },
     "execution_count": 20,
     "metadata": {},
     "output_type": "execute_result"
    }
   ],
   "source": [
    "sorted_token_list"
   ]
  },
  {
   "cell_type": "markdown",
   "metadata": {},
   "source": [
    "## (b) Top 5 info gain"
   ]
  },
  {
   "cell_type": "code",
   "execution_count": 57,
   "metadata": {},
   "outputs": [
    {
     "data": {
      "text/plain": [
       "['bad', 'best', \"n't\", 'too', 'moving']"
      ]
     },
     "execution_count": 57,
     "metadata": {},
     "output_type": "execute_result"
    }
   ],
   "source": [
    "top_5_tokens = (sorted_token_list[0:5])\n",
    "top_5_tokens"
   ]
  },
  {
   "cell_type": "markdown",
   "metadata": {},
   "source": [
    "## (b) Top 50 info gain"
   ]
  },
  {
   "cell_type": "code",
   "execution_count": 35,
   "metadata": {
    "collapsed": true
   },
   "outputs": [],
   "source": [
    "def top_k_infogain(k,sorted_token_list,reviews_train_data):\n",
    "    top_k_data =  sorted_token_list[0:k]\n",
    "    data = genVocab(reviews_train_data,top_k_data)\n",
    "    return data"
   ]
  },
  {
   "cell_type": "code",
   "execution_count": 36,
   "metadata": {
    "collapsed": true
   },
   "outputs": [],
   "source": [
    "data50 = top_k_infogain(50,sorted_token_list,reviews_train_data)"
   ]
  },
  {
   "cell_type": "code",
   "execution_count": 49,
   "metadata": {},
   "outputs": [],
   "source": [
    "data50 = data50.astype(int)"
   ]
  },
  {
   "cell_type": "code",
   "execution_count": 52,
   "metadata": {},
   "outputs": [
    {
     "data": {
      "text/plain": [
       "array([1, 1, 0, ..., 1, 1, 0])"
      ]
     },
     "execution_count": 52,
     "metadata": {},
     "output_type": "execute_result"
    }
   ],
   "source": [
    "np.array(data50.label)"
   ]
  },
  {
   "cell_type": "code",
   "execution_count": 50,
   "metadata": {},
   "outputs": [],
   "source": [
    "training_data = data50.iloc[:,1:].copy()\n",
    "#df1 = df.iloc[0,0:2].copy()\n"
   ]
  },
  {
   "cell_type": "code",
   "execution_count": 53,
   "metadata": {},
   "outputs": [],
   "source": [
    "X = np.array(training_data.values)\n",
    "y = np.array(data50.label)"
   ]
  },
  {
   "cell_type": "code",
   "execution_count": 55,
   "metadata": {
    "collapsed": true
   },
   "outputs": [],
   "source": [
    "import numpy as np\n",
    "# -- coding: utf-8 --\n",
    "\"\"\"\n",
    "Original Author (in Matlab): Yoonsuck Choe\n",
    "http://faculty.cs.tamu.edu\n",
    "Sat Feb  9 16:14:37 CST 2008\n",
    "License: GNU public license (http://www.gnu.org)\n",
    "Modified extensively by Prof. Lisa Hellerstein\n",
    "Matlab to Python Conversion by Shaoyu Chen \n",
    "Fall 2018 Version\n",
    "\"\"\"\n",
    "import numpy as np\n",
    "import matplotlib.pyplot as plt\n",
    "\n",
    "def sigmoid(x):\n",
    "  \treturn 1 / (1 + np.exp(-x))\n",
    "\n",
    "# I is matrix of input examples\n",
    "# D is matrix of output examplesh\n",
    "# n_hidden is number of nodes in hidden layera\n",
    "# n_max is number of training epochs\n",
    "def bp(I,D,n_hidden,eta,n_max):\n",
    "    np.random.seed(1926)\n",
    "    \n",
    "    r_inp, c_inp = I.shape\n",
    "    n_examples = r_inp\n",
    "    n_input    = c_inp\n",
    "    r_out,c_out = D.shape\n",
    "    n_output   = c_out\n",
    "\n",
    "    w = np.random.random((n_input, n_hidden))\n",
    "    wb = np.random.random(n_hidden)\n",
    "    v = np.random.random((n_hidden, n_output))\n",
    "    vb = np.random.random(n_output)\n",
    "    err_curve = np.zeros((n_max,c_out))\n",
    "\n",
    "    for n in range(n_max):\n",
    "        cross_err_sum = np.zeros((1,n_output))\n",
    "    \n",
    "        for k in range(n_examples):\n",
    "            x = I[k,:].reshape([1,-1])\n",
    "            z = sigmoid(x.dot(w)+wb)\n",
    "            y = sigmoid(z.dot(v)+vb)\n",
    "            real = float(D[k,:])\n",
    "            predicted = float(y)\n",
    "            #err = (D[k,:] - y).reshape([1,-1])\n",
    "            err = -(D[k,:]*np.log(y) + (1 - D[k,:])*(np.log(1 - y))).reshape([1,-1])\n",
    "            #sq_err_sum += 0.5*np.square(err)\n",
    "            cross_err_sum += err\n",
    "            \n",
    "            Delta_output = -((D[k,:]-y) / (y*(1-y)))\n",
    "            Delta_v = z.T.dot(predicted-real)\n",
    "            Delta_vb = np.sum(Delta_output,axis=0)\n",
    "#             Delta_output = err*(1-y)*y    \n",
    "#             Delta_v = z.T.dot(Delta_output)\n",
    "#             Delta_vb = np.sum(Delta_output,axis=0)\n",
    "\n",
    "#             Delta_hidden = (v.T).dot(y-D[k,:])\n",
    "            Delta_hidden = v.T.dot(float(y)-float(D[k,:]))\n",
    "            Delta_w = x.T.dot(v.T.dot(float(predicted-real))).dot(z.T.dot(1-z))   \n",
    "            Delta_wb = np.sum(Delta_hidden,axis=0)\n",
    "            \n",
    "#             Delta_hidden = Delta_output.dot(v.T)*(1-z)*z\n",
    "#             Delta_w = x.T.dot(Delta_hidden)    \n",
    "#             Delta_wb = np.sum(Delta_hidden,axis=0) \n",
    "        \n",
    "            v -= eta*Delta_v\n",
    "            vb -= eta*Delta_vb\n",
    "            w -= eta*Delta_w\n",
    "            wb -= eta*Delta_wb\n",
    "\n",
    "            #err_curve[n] = sq_err_sum/n_examples\n",
    "            err_curve[n] = cross_err_sum/n_examples\n",
    "    \n",
    "        #print('epoch %d: err %f'%(n,np.mean(cross_err_sum)/n_examples))\n",
    "    \n",
    "    plt.plot(np.linspace(0,n_max-1,n_max),np.mean(err_curve,axis=1))        \n",
    "    plt.show()\n",
    "    return w,wb,v,vb,err_curve     \n",
    "\n",
    "\n",
    "#Examples:\n",
    "#1. XOR\n",
    "#w,wb,v,vb,err_curve = bp(np.array([[0,0],[0,1],[1,0],[1,1]]), np.array([0,1,1,0]).reshape([-1,1]), 2, 4.5, 1000);\n",
    "#\n",
    "#2. autoassociation\n",
    "#w,wb,v,vb,err_curve = bp(np.eye(8,8), np.eye(8,8), 3, 5.0, 10000)\n",
    "#    \n",
    "#3. function approximation\n",
    "# x = np.arange(-np.pi,np.pi,0.1)\n",
    "#fx = (np.cos(x)+1)/2\n",
    "#w,wb,v,vb,err_curve = bp((x/np.pi).reshape([-1,1]),fx.reshape([-1,1]), 4, 2.0,4000);"
   ]
  },
  {
   "cell_type": "code",
   "execution_count": 56,
   "metadata": {},
   "outputs": [
    {
     "data": {
      "image/png": "[encoded data removed]",
      "text/plain": [
       "<Figure size 432x288 with 1 Axes>"
      ]
     },
     "metadata": {},
     "output_type": "display_data"
    }
   ],
   "source": [
    "w,wb,v,vb,err_curve = bp(X,y.reshape([-1,1]),14,0.001,700)"
   ]
  },
  {
   "cell_type": "code",
   "execution_count": 65,
   "metadata": {
    "collapsed": true
   },
   "outputs": [],
   "source": [
    "def generateTestData(top_k):\n",
    "    datatest = []\n",
    "\n",
    "    f = open('reviewstest.txt', 'r')\n",
    "\n",
    "    for line in f.readlines():\n",
    "        data = line.rstrip(\"\\n\\t\").split(\" \", 1)\n",
    "        row, column = [int(i) if i.isdigit() else str(i) for i in data]\n",
    "        datatest.append((row,column))\n",
    "\n",
    "    cols = ['label', 'text']\n",
    "    reviewstest = pd.DataFrame(datatest, columns=cols)\n",
    "\n",
    "    label_test = reviewstest.label.tolist()\n",
    "    textTe = reviewstest.text.tolist()\n",
    "    textTest = [set(word.split(' ')) for word in textTe]\n",
    "\n",
    "    data_test = []\n",
    "    for i in textTest:\n",
    "        df_test = []\n",
    "        for j in top_k:\n",
    "            if j in i:\n",
    "                df_test.append(1)\n",
    "            else:\n",
    "                df_test.append(0)\n",
    "        data_test.append(df_test)\n",
    "    \n",
    "    return data_test,label_test"
   ]
  },
  {
   "cell_type": "code",
   "execution_count": 71,
   "metadata": {},
   "outputs": [],
   "source": [
    "data_test,label_test = generateTestData(sorted_token_list[0:50])"
   ]
  },
  {
   "cell_type": "code",
   "execution_count": 72,
   "metadata": {},
   "outputs": [],
   "source": [
    "def predict(data_test,w,wb,v,vb):\n",
    "    z_test = sigmoid(np.array(data_test).dot(w)+wb)\n",
    "    y_test = sigmoid(z_test.dot(v)+vb)\n",
    "    return y_test.round()"
   ]
  },
  {
   "cell_type": "markdown",
   "metadata": {},
   "source": [
    "# (c) Confusion Matrix and Accuracy"
   ]
  },
  {
   "cell_type": "markdown",
   "metadata": {},
   "source": [
    "(i)"
   ]
  },
  {
   "cell_type": "code",
   "execution_count": 74,
   "metadata": {},
   "outputs": [
    {
     "data": {
      "text/plain": [
       "array([[129,  98],\n",
       "       [ 62, 211]])"
      ]
     },
     "execution_count": 74,
     "metadata": {},
     "output_type": "execute_result"
    }
   ],
   "source": [
    "from sklearn.metrics import confusion_matrix \n",
    "confusion_matrix(label_test,predict(data_test,w,wb,v,vb))"
   ]
  },
  {
   "cell_type": "markdown",
   "metadata": {},
   "source": [
    "(ii)"
   ]
  },
  {
   "cell_type": "code",
   "execution_count": 78,
   "metadata": {},
   "outputs": [
    {
     "name": "stdout",
     "output_type": "stream",
     "text": [
      "Accuracy:  0.68\n"
     ]
    }
   ],
   "source": [
    "print(\"Accuracy: \", accuracy_score(label_test, predict(data_test,w,wb,v,vb)))"
   ]
  },
  {
   "cell_type": "markdown",
   "metadata": {},
   "source": [
    "## (d) ZeroR accuracy"
   ]
  },
  {
   "cell_type": "code",
   "execution_count": 79,
   "metadata": {
    "collapsed": true
   },
   "outputs": [],
   "source": [
    "def ZeroR(reviews_test_data,reviews_train_data):\n",
    "    a=dict(reviews_test_data['label'].value_counts())\n",
    "    b=dict(reviews_train_data['label'].value_counts())\n",
    "    if b['0']>b['1']:\n",
    "        accuracy  = a['0']/len(reviews_test_data) * 100\n",
    "    else:\n",
    "        accuracy  = a['1']/len(reviews_test_data) * 100\n",
    "    return accuracy"
   ]
  },
  {
   "cell_type": "code",
   "execution_count": 80,
   "metadata": {},
   "outputs": [
    {
     "data": {
      "text/plain": [
       "54.6"
      ]
     },
     "execution_count": 80,
     "metadata": {},
     "output_type": "execute_result"
    }
   ],
   "source": [
    "ZeroR(reviews_test_data,reviews_train_data)"
   ]
  },
  {
   "cell_type": "markdown",
   "metadata": {},
   "source": [
    "## (f) Accuracy Testing Based on no of attributes"
   ]
  },
  {
   "cell_type": "code",
   "execution_count": 91,
   "metadata": {},
   "outputs": [
    {
     "data": {
      "image/png": "[encoded data removed]",
      "text/plain": [
       "<Figure size 432x288 with 1 Axes>"
      ]
     },
     "metadata": {},
     "output_type": "display_data"
    },
    {
     "name": "stdout",
     "output_type": "stream",
     "text": [
      "Accuracy 25 :  0.654\n"
     ]
    },
    {
     "data": {
      "image/png": "[encoded data removed]",
      "text/plain": [
       "<Figure size 432x288 with 1 Axes>"
      ]
     },
     "metadata": {},
     "output_type": "display_data"
    },
    {
     "name": "stdout",
     "output_type": "stream",
     "text": [
      "Accuracy 50 :  0.68\n"
     ]
    },
    {
     "data": {
      "image/png": "[encoded data removed]",
      "text/plain": [
       "<Figure size 432x288 with 1 Axes>"
      ]
     },
     "metadata": {},
     "output_type": "display_data"
    },
    {
     "name": "stdout",
     "output_type": "stream",
     "text": [
      "Accuracy 75 :  0.704\n"
     ]
    },
    {
     "data": {
      "image/png": "[encoded data removed]",
      "text/plain": [
       "<Figure size 432x288 with 1 Axes>"
      ]
     },
     "metadata": {},
     "output_type": "display_data"
    },
    {
     "name": "stdout",
     "output_type": "stream",
     "text": [
      "Accuracy 100 :  0.692\n"
     ]
    },
    {
     "data": {
      "image/png": "[encoded data removed]",
      "text/plain": [
       "<Figure size 432x288 with 1 Axes>"
      ]
     },
     "metadata": {},
     "output_type": "display_data"
    },
    {
     "name": "stdout",
     "output_type": "stream",
     "text": [
      "Accuracy 200 :  0.458\n"
     ]
    }
   ],
   "source": [
    "Accuracy_list  = []\n",
    "k_list = [25,50,75,100,200]\n",
    "for k in k_list:\n",
    "    datak = top_k_infogain(k,sorted_token_list,reviews_train_data)\n",
    "    datak = datak.astype(int)\n",
    "    training_data_k = datak.iloc[:,1:].copy()\n",
    "    X = np.array(training_data_k.values)\n",
    "    y = np.array(datak.label)\n",
    "    w,wb,v,vb,err_curve = bp(X,y.reshape([-1,1]),14,0.001,700)\n",
    "    data_test,label_test = generateTestData(sorted_token_list[0:k])\n",
    "    print(\"Accuracy \"+ str(k)+ \" : \", accuracy_score(label_test, predict(data_test,w,wb,v,vb)))\n",
    "    Accuracy_list.append(accuracy_score(label_test, predict(data_test,w,wb,v,vb)))"
   ]
  },
  {
   "cell_type": "code",
   "execution_count": 93,
   "metadata": {},
   "outputs": [
    {
     "data": {
      "image/png": "[encoded data removed]",
      "text/plain": [
       "<Figure size 432x288 with 1 Axes>"
      ]
     },
     "metadata": {},
     "output_type": "display_data"
    }
   ],
   "source": [
    "plt.plot(k_list,Accuracy_list)\n",
    "plt.ylabel('Accuracy')\n",
    "plt.xlabel('K Value')\n",
    "plt.show()"
   ]
  },
  {
   "cell_type": "code",
   "execution_count": null,
   "metadata": {
    "collapsed": true
   },
   "outputs": [],
   "source": []
  }
 ],
 "metadata": {
  "kernelspec": {
   "display_name": "Python 3",
   "language": "python",
   "name": "python3"
  },
  "language_info": {
   "codemirror_mode": {
    "name": "ipython",
    "version": 3
   },
   "file_extension": ".py",
   "mimetype": "text/x-python",
   "name": "python",
   "nbconvert_exporter": "python",
   "pygments_lexer": "ipython3",
   "version": "3.6.3"
  }
 },
 "nbformat": 4,
 "nbformat_minor": 2
}
